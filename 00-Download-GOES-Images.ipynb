{
 "cells": [
  {
   "cell_type": "markdown",
   "metadata": {},
   "source": [
    "# Hurricane Fiona (2022-09-16/22) around Puerto Rico\n",
    "\n",
    "\n",
    "## Download GOES-16"
   ]
  },
  {
   "cell_type": "code",
   "execution_count": null,
   "metadata": {},
   "outputs": [],
   "source": [
    "from pathlib import Path\n",
    "\n",
    "path = Path(\"data\", \"goes16-hurricane\")\n",
    "path.mkdir(parents=True, exist_ok=True)"
   ]
  },
  {
   "cell_type": "code",
   "execution_count": null,
   "metadata": {},
   "outputs": [],
   "source": [
    "min_lon, max_lon, min_lat, max_lat = bbox = -72, -61, 15, 21\n",
    "\n",
    "min_time = \"2022-09-16T12:00:00Z\"\n",
    "max_time = \"2022-09-22T00:00:00Z\""
   ]
  },
  {
   "cell_type": "code",
   "execution_count": null,
   "metadata": {},
   "outputs": [],
   "source": [
    "import folium\n",
    "import shapely\n",
    "\n",
    "aoi = shapely.box(xmin=min_lon, ymin=min_lat, xmax=max_lon, ymax=max_lat)\n",
    "\n",
    "m = folium.Map()\n",
    "folium.GeoJson(aoi).add_to(m)\n",
    "m.fit_bounds(m.get_bounds())\n",
    "m"
   ]
  },
  {
   "cell_type": "code",
   "execution_count": null,
   "metadata": {},
   "outputs": [],
   "source": [
    "from datetime import datetime\n",
    "\n",
    "from goes2go import GOES\n",
    "\n",
    "blend = \"ABI-L2-MCMIPF\"\n",
    "\n",
    "start = datetime.strptime(min_time, \"%Y-%m-%dT%H:%M:%SZ\")\n",
    "end = datetime.strptime(max_time, \"%Y-%m-%dT%H:%M:%SZ\")\n",
    "\n",
    "g = GOES(satellite=16, product=blend, domain=\"C\")\n",
    "df = g.df(\n",
    "    start=start,\n",
    "    end=end,\n",
    ")\n",
    "\n",
    "df"
   ]
  },
  {
   "cell_type": "markdown",
   "metadata": {},
   "source": [
    "# Do not run this cell unless you have a few days and ~256 G of space to spare!!!\n",
    "\n",
    "For this particular time-rage it will break down to:\n",
    "\n",
    "|size | day |\n",
    "|-----|-----|\n",
    "| 26G | 259 |\n",
    "| 46G |\t260 |\n",
    "| 46G |\t261 |\n",
    "| 46G |\t262 |\n",
    "| 46G |\t263 |\n",
    "| 46G |\t264 |"
   ]
  },
  {
   "cell_type": "code",
   "execution_count": null,
   "metadata": {
    "scrolled": false
   },
   "outputs": [],
   "source": [
    "g.timerange(start=start, end=end, save_dir=path)"
   ]
  },
  {
   "cell_type": "markdown",
   "metadata": {},
   "source": [
    "## Save True/NaturalColor slices"
   ]
  },
  {
   "cell_type": "code",
   "execution_count": null,
   "metadata": {},
   "outputs": [],
   "source": [
    "import gc\n",
    "\n",
    "# This is bad but I could not find a better single file loader in goes2go\n",
    "from goes2go.data import _as_xarray_MP\n",
    "\n",
    "from utils import smaller_image\n",
    "\n",
    "\n",
    "def save_smaller_nc(k):\n",
    "    fname = df.iloc[k].file.split(\"/\")[-1]\n",
    "    fname = f\"rgb-{fname}\"\n",
    "    fname = path.joinpath(fname)\n",
    "    if not fname.exists():\n",
    "        print(f\"Saving {fname}\")\n",
    "        ds = _as_xarray_MP(df.iloc[k].file, save_dir=path, i=1, n=1, verbose=True)\n",
    "        rgb, imshow_kw = smaller_image(ds, min_lon, max_lon, min_lat, max_lat)\n",
    "        rgb.to_netcdf(fname)\n",
    "        # Closing, deleting, and calling the garbage collector\n",
    "        # is only required when dealing with many files.\n",
    "        # This avoids running out of memory just b/c we have may `ds`s laying around.\n",
    "        rgb.close()\n",
    "        ds.close()\n",
    "        del rgb\n",
    "        del ds\n",
    "        gc.collect()\n",
    "    else:\n",
    "        print(f\"{fname} already exist\")\n",
    "\n",
    "\n",
    "for k in range(len(df)):\n",
    "    save_smaller_nc(k)"
   ]
  },
  {
   "cell_type": "markdown",
   "metadata": {},
   "source": [
    "# NB: One can delete all the files but the first one when this is done. We need one full file to extract the projection info later. I could fix this by storing that info too but I'm kind of lazy."
   ]
  }
 ],
 "metadata": {
  "kernelspec": {
   "display_name": "Python 3 (ipykernel)",
   "language": "python",
   "name": "python3"
  },
  "language_info": {
   "codemirror_mode": {
    "name": "ipython",
    "version": 3
   },
   "file_extension": ".py",
   "mimetype": "text/x-python",
   "name": "python",
   "nbconvert_exporter": "python",
   "pygments_lexer": "ipython3",
   "version": "3.11.0"
  }
 },
 "nbformat": 4,
 "nbformat_minor": 4
}
